{
 "cells": [
  {
   "cell_type": "markdown",
   "metadata": {},
   "source": [
    "熟练使用字典和zip函数对numpy数据(X,Y)，依据标签进行分类存储，并最终使用vstack转回numpy格式\n",
    "运用vstack把列表内的array进行axis=0方向的拼接，然后使用mean和var函数获得参数构建对应的高斯分布\n",
    "scipy的stats模块中norm函数\n",
    "\n",
    "离散数据和连续数据分别对应不同的随机分布\n"
   ]
  },
  {
   "cell_type": "code",
   "execution_count": 111,
   "metadata": {},
   "outputs": [],
   "source": [
    "import numpy as np\n",
    "from collections import Counter\n",
    "import random\n",
    "import matplotlib.pyplot as plt\n",
    "from sklearn.datasets import load_iris\n",
    "from sklearn.utils import shuffle\n",
    "import pandas as pd"
   ]
  },
  {
   "cell_type": "code",
   "execution_count": 112,
   "metadata": {},
   "outputs": [],
   "source": [
    "iris = load_iris()\n",
    "X,Y = iris.data,iris.target\n",
    "X,Y = shuffle(X,Y,random_state=11)"
   ]
  },
  {
   "cell_type": "code",
   "execution_count": 113,
   "metadata": {},
   "outputs": [
    {
     "name": "stdout",
     "output_type": "stream",
     "text": [
      "X_train  (135, 4)\n",
      "X_test  (15, 4)\n",
      "Y_train  (135, 1)\n",
      "Y_test  (15, 1)\n"
     ]
    }
   ],
   "source": [
    "X = X.astype(np.float32)\n",
    "offset = int(X.shape[0]*0.9)\n",
    "# 训练集\n",
    "X_train, Y_train = X[:offset], Y[:offset]\n",
    "# 测试集\n",
    "X_test, Y_test = X[offset:], Y[offset:]\n",
    "Y_train = Y_train.reshape((-1,1))\n",
    "Y_test = Y_test.reshape((-1,1))\n",
    "\n",
    "print('X_train ', X_train.shape)\n",
    "print('X_test ', X_test.shape)\n",
    "print('Y_train ', Y_train.shape)\n",
    "print('Y_test ', Y_test.shape)"
   ]
  },
  {
   "cell_type": "code",
   "execution_count": 114,
   "metadata": {
    "collapsed": true
   },
   "outputs": [
    {
     "name": "stdout",
     "output_type": "stream",
     "text": [
      "(array([7.2, 3. , 5.8, 1.6], dtype=float32), array([2]))\n",
      "(array([4.9, 3.1, 1.5, 0.2], dtype=float32), array([0]))\n",
      "(array([6.4, 2.8, 5.6, 2.2], dtype=float32), array([2]))\n",
      "(array([7.2, 3.2, 6. , 1.8], dtype=float32), array([2]))\n",
      "(array([4.8, 3. , 1.4, 0.3], dtype=float32), array([0]))\n",
      "(array([5.8, 2.6, 4. , 1.2], dtype=float32), array([1]))\n",
      "(array([7.2, 3.6, 6.1, 2.5], dtype=float32), array([2]))\n",
      "(array([4.8, 3.4, 1.9, 0.2], dtype=float32), array([0]))\n",
      "(array([5.8, 2.7, 3.9, 1.2], dtype=float32), array([1]))\n",
      "(array([6.1, 2.8, 4. , 1.3], dtype=float32), array([1]))\n",
      "(array([6.8, 2.8, 4.8, 1.4], dtype=float32), array([1]))\n",
      "(array([4.3, 3. , 1.1, 0.1], dtype=float32), array([0]))\n",
      "(array([5.5, 2.4, 3.7, 1. ], dtype=float32), array([1]))\n",
      "(array([6.1, 3. , 4.6, 1.4], dtype=float32), array([1]))\n",
      "(array([5.5, 2.4, 3.8, 1.1], dtype=float32), array([1]))\n"
     ]
    }
   ],
   "source": [
    "for i in zip(X_test,Y_test):\n",
    "    print(i)"
   ]
  },
  {
   "cell_type": "code",
   "execution_count": 115,
   "metadata": {},
   "outputs": [
    {
     "data": {
      "text/plain": [
       "Counter({2: 46, 1: 43, 0: 46})"
      ]
     },
     "execution_count": 115,
     "metadata": {},
     "output_type": "execute_result"
    }
   ],
   "source": [
    "Y_label = Y_train.flatten()\n",
    "cnt = Counter(Y_label)\n",
    "cnt"
   ]
  },
  {
   "cell_type": "code",
   "execution_count": 116,
   "metadata": {},
   "outputs": [
    {
     "data": {
      "text/plain": [
       "{0: 0.34074074074074073, 1: 0.31851851851851853, 2: 0.34074074074074073}"
      ]
     },
     "execution_count": 116,
     "metadata": {},
     "output_type": "execute_result"
    }
   ],
   "source": [
    "# 计算先验概率\n",
    "prior_dict = {label: 1 for label in labels}\n",
    "for label in labels:\n",
    "    prior_dict[label]=cnt[label]/len(Y_train.flatten())\n",
    "prior_dict    "
   ]
  },
  {
   "cell_type": "code",
   "execution_count": 117,
   "metadata": {},
   "outputs": [
    {
     "data": {
      "text/plain": [
       "[0, 1, 2]"
      ]
     },
     "execution_count": 117,
     "metadata": {},
     "output_type": "execute_result"
    }
   ],
   "source": [
    "labels = list(set(Y_train.flatten()))\n",
    "labels"
   ]
  },
  {
   "cell_type": "code",
   "execution_count": 118,
   "metadata": {
    "collapsed": true
   },
   "outputs": [
    {
     "data": {
      "text/plain": [
       "{0: [array([4.9, 3.1, 1.5, 0.1], dtype=float32),\n",
       "  array([5.7, 4.4, 1.5, 0.4], dtype=float32),\n",
       "  array([4.8, 3.1, 1.6, 0.2], dtype=float32),\n",
       "  array([4.5, 2.3, 1.3, 0.3], dtype=float32),\n",
       "  array([4.7, 3.2, 1.3, 0.2], dtype=float32),\n",
       "  array([4.6, 3.6, 1. , 0.2], dtype=float32),\n",
       "  array([4.8, 3. , 1.4, 0.1], dtype=float32),\n",
       "  array([4.8, 3.4, 1.6, 0.2], dtype=float32),\n",
       "  array([5.4, 3.9, 1.3, 0.4], dtype=float32),\n",
       "  array([5.1, 3.5, 1.4, 0.2], dtype=float32),\n",
       "  array([5. , 3.3, 1.4, 0.2], dtype=float32),\n",
       "  array([4.7, 3.2, 1.6, 0.2], dtype=float32),\n",
       "  array([5.5, 3.5, 1.3, 0.2], dtype=float32),\n",
       "  array([4.6, 3.4, 1.4, 0.3], dtype=float32),\n",
       "  array([5. , 3.2, 1.2, 0.2], dtype=float32),\n",
       "  array([5.1, 3.8, 1.6, 0.2], dtype=float32),\n",
       "  array([4.4, 3.2, 1.3, 0.2], dtype=float32),\n",
       "  array([5.4, 3.4, 1.7, 0.2], dtype=float32),\n",
       "  array([5.1, 3.7, 1.5, 0.4], dtype=float32),\n",
       "  array([5. , 3.4, 1.6, 0.4], dtype=float32),\n",
       "  array([5.2, 3.4, 1.4, 0.2], dtype=float32),\n",
       "  array([5. , 3.6, 1.4, 0.2], dtype=float32),\n",
       "  array([5.4, 3.4, 1.5, 0.4], dtype=float32),\n",
       "  array([5.1, 3.4, 1.5, 0.2], dtype=float32),\n",
       "  array([5.5, 4.2, 1.4, 0.2], dtype=float32),\n",
       "  array([4.6, 3.2, 1.4, 0.2], dtype=float32),\n",
       "  array([5.3, 3.7, 1.5, 0.2], dtype=float32),\n",
       "  array([5.7, 3.8, 1.7, 0.3], dtype=float32),\n",
       "  array([5. , 3.5, 1.6, 0.6], dtype=float32),\n",
       "  array([5.1, 3.5, 1.4, 0.3], dtype=float32),\n",
       "  array([4.4, 3. , 1.3, 0.2], dtype=float32),\n",
       "  array([5. , 3. , 1.6, 0.2], dtype=float32),\n",
       "  array([5.1, 3.8, 1.5, 0.3], dtype=float32),\n",
       "  array([5.2, 4.1, 1.5, 0.1], dtype=float32),\n",
       "  array([4.4, 2.9, 1.4, 0.2], dtype=float32),\n",
       "  array([4.6, 3.1, 1.5, 0.2], dtype=float32),\n",
       "  array([4.9, 3. , 1.4, 0.2], dtype=float32),\n",
       "  array([5.4, 3.9, 1.7, 0.4], dtype=float32),\n",
       "  array([5. , 3.5, 1.3, 0.3], dtype=float32),\n",
       "  array([5. , 3.4, 1.5, 0.2], dtype=float32),\n",
       "  array([5.8, 4. , 1.2, 0.2], dtype=float32),\n",
       "  array([5.1, 3.8, 1.9, 0.4], dtype=float32),\n",
       "  array([5.4, 3.7, 1.5, 0.2], dtype=float32),\n",
       "  array([5.2, 3.5, 1.5, 0.2], dtype=float32),\n",
       "  array([5.1, 3.3, 1.7, 0.5], dtype=float32),\n",
       "  array([4.9, 3.6, 1.4, 0.1], dtype=float32)],\n",
       " 1: [array([6.3, 3.3, 4.7, 1.6], dtype=float32),\n",
       "  array([6.7, 3.1, 4.4, 1.4], dtype=float32),\n",
       "  array([6.1, 2.9, 4.7, 1.4], dtype=float32),\n",
       "  array([6. , 2.2, 4. , 1. ], dtype=float32),\n",
       "  array([5.4, 3. , 4.5, 1.5], dtype=float32),\n",
       "  array([5.6, 3. , 4.5, 1.5], dtype=float32),\n",
       "  array([5.6, 2.5, 3.9, 1.1], dtype=float32),\n",
       "  array([6.4, 3.2, 4.5, 1.5], dtype=float32),\n",
       "  array([6.6, 3. , 4.4, 1.4], dtype=float32),\n",
       "  array([6. , 3.4, 4.5, 1.6], dtype=float32),\n",
       "  array([6.7, 3. , 5. , 1.7], dtype=float32),\n",
       "  array([6. , 2.7, 5.1, 1.6], dtype=float32),\n",
       "  array([5. , 2. , 3.5, 1. ], dtype=float32),\n",
       "  array([6.9, 3.1, 4.9, 1.5], dtype=float32),\n",
       "  array([5.1, 2.5, 3. , 1.1], dtype=float32),\n",
       "  array([6.6, 2.9, 4.6, 1.3], dtype=float32),\n",
       "  array([5.9, 3. , 4.2, 1.5], dtype=float32),\n",
       "  array([6.7, 3.1, 4.7, 1.5], dtype=float32),\n",
       "  array([6.5, 2.8, 4.6, 1.5], dtype=float32),\n",
       "  array([6.1, 2.8, 4.7, 1.2], dtype=float32),\n",
       "  array([5.6, 3. , 4.1, 1.3], dtype=float32),\n",
       "  array([5.5, 2.6, 4.4, 1.2], dtype=float32),\n",
       "  array([5. , 2.3, 3.3, 1. ], dtype=float32),\n",
       "  array([5.6, 2.7, 4.2, 1.3], dtype=float32),\n",
       "  array([6.2, 2.9, 4.3, 1.3], dtype=float32),\n",
       "  array([6. , 2.9, 4.5, 1.5], dtype=float32),\n",
       "  array([6.3, 2.5, 4.9, 1.5], dtype=float32),\n",
       "  array([6.2, 2.2, 4.5, 1.5], dtype=float32),\n",
       "  array([6.3, 2.3, 4.4, 1.3], dtype=float32),\n",
       "  array([5.2, 2.7, 3.9, 1.4], dtype=float32),\n",
       "  array([5.7, 2.8, 4.1, 1.3], dtype=float32),\n",
       "  array([7. , 3.2, 4.7, 1.4], dtype=float32),\n",
       "  array([5.5, 2.3, 4. , 1.3], dtype=float32),\n",
       "  array([5.7, 3. , 4.2, 1.2], dtype=float32),\n",
       "  array([5.7, 2.8, 4.5, 1.3], dtype=float32),\n",
       "  array([4.9, 2.4, 3.3, 1. ], dtype=float32),\n",
       "  array([5.5, 2.5, 4. , 1.3], dtype=float32),\n",
       "  array([5.7, 2.9, 4.2, 1.3], dtype=float32),\n",
       "  array([5.7, 2.6, 3.5, 1. ], dtype=float32),\n",
       "  array([5.6, 2.9, 3.6, 1.3], dtype=float32),\n",
       "  array([5.9, 3.2, 4.8, 1.8], dtype=float32),\n",
       "  array([5.8, 2.7, 4.1, 1. ], dtype=float32),\n",
       "  array([6.4, 2.9, 4.3, 1.3], dtype=float32)],\n",
       " 2: [array([6.8, 3. , 5.5, 2.1], dtype=float32),\n",
       "  array([6.7, 3. , 5.2, 2.3], dtype=float32),\n",
       "  array([6.3, 2.8, 5.1, 1.5], dtype=float32),\n",
       "  array([6.4, 2.7, 5.3, 1.9], dtype=float32),\n",
       "  array([6. , 2.2, 5. , 1.5], dtype=float32),\n",
       "  array([5.7, 2.5, 5. , 2. ], dtype=float32),\n",
       "  array([6.9, 3.1, 5.4, 2.1], dtype=float32),\n",
       "  array([6.3, 2.9, 5.6, 1.8], dtype=float32),\n",
       "  array([6.5, 3.2, 5.1, 2. ], dtype=float32),\n",
       "  array([5.8, 2.7, 5.1, 1.9], dtype=float32),\n",
       "  array([5.9, 3. , 5.1, 1.8], dtype=float32),\n",
       "  array([6.9, 3.2, 5.7, 2.3], dtype=float32),\n",
       "  array([7.7, 2.8, 6.7, 2. ], dtype=float32),\n",
       "  array([7.7, 2.6, 6.9, 2.3], dtype=float32),\n",
       "  array([7.6, 3. , 6.6, 2.1], dtype=float32),\n",
       "  array([7.9, 3.8, 6.4, 2. ], dtype=float32),\n",
       "  array([6.5, 3. , 5.8, 2.2], dtype=float32),\n",
       "  array([7.4, 2.8, 6.1, 1.9], dtype=float32),\n",
       "  array([6.8, 3.2, 5.9, 2.3], dtype=float32),\n",
       "  array([6.9, 3.1, 5.1, 2.3], dtype=float32),\n",
       "  array([4.9, 2.5, 4.5, 1.7], dtype=float32),\n",
       "  array([6.1, 2.6, 5.6, 1.4], dtype=float32),\n",
       "  array([6.5, 3. , 5.5, 1.8], dtype=float32),\n",
       "  array([6.3, 2.5, 5. , 1.9], dtype=float32),\n",
       "  array([6.3, 2.7, 4.9, 1.8], dtype=float32),\n",
       "  array([7.1, 3. , 5.9, 2.1], dtype=float32),\n",
       "  array([6.3, 3.4, 5.6, 2.4], dtype=float32),\n",
       "  array([5.8, 2.7, 5.1, 1.9], dtype=float32),\n",
       "  array([6.7, 2.5, 5.8, 1.8], dtype=float32),\n",
       "  array([6.1, 3. , 4.9, 1.8], dtype=float32),\n",
       "  array([6.7, 3.1, 5.6, 2.4], dtype=float32),\n",
       "  array([7.7, 3.8, 6.7, 2.2], dtype=float32),\n",
       "  array([6.3, 3.3, 6. , 2.5], dtype=float32),\n",
       "  array([6.4, 3.1, 5.5, 1.8], dtype=float32),\n",
       "  array([6.7, 3.3, 5.7, 2.5], dtype=float32),\n",
       "  array([6.4, 3.2, 5.3, 2.3], dtype=float32),\n",
       "  array([6.2, 2.8, 4.8, 1.8], dtype=float32),\n",
       "  array([6.7, 3.3, 5.7, 2.1], dtype=float32),\n",
       "  array([5.6, 2.8, 4.9, 2. ], dtype=float32),\n",
       "  array([7.3, 2.9, 6.3, 1.8], dtype=float32),\n",
       "  array([7.7, 3. , 6.1, 2.3], dtype=float32),\n",
       "  array([6. , 3. , 4.8, 1.8], dtype=float32),\n",
       "  array([6.4, 2.8, 5.6, 2.1], dtype=float32),\n",
       "  array([5.8, 2.8, 5.1, 2.4], dtype=float32),\n",
       "  array([6.2, 3.4, 5.4, 2.3], dtype=float32),\n",
       "  array([6.5, 3. , 5.2, 2. ], dtype=float32)]}"
      ]
     },
     "execution_count": 118,
     "metadata": {},
     "output_type": "execute_result"
    }
   ],
   "source": [
    "#新建字典 根据label把相应的x存入对应的key\n",
    "data = {label: [] for label in labels}\n",
    "for f, label in zip(X_train, Y_train.flatten()):\n",
    "    data[label].append(f)\n",
    "data"
   ]
  },
  {
   "cell_type": "code",
   "execution_count": 119,
   "metadata": {},
   "outputs": [],
   "source": [
    "mean_dict = {label: [] for label in labels}\n",
    "var_dict = {label: [] for label in labels}\n",
    "for label in labels:\n",
    "    mean_dict[label]=np.vstack(data[label]).mean(axis=0)\n",
    "    var_dict[label]=np.vstack(data[label]).var(axis=0)"
   ]
  },
  {
   "cell_type": "code",
   "execution_count": 120,
   "metadata": {},
   "outputs": [
    {
     "data": {
      "text/plain": [
       "{0: array([5.0326085 , 3.454348  , 1.4608697 , 0.24999996], dtype=float32),\n",
       " 1: array([5.934883 , 2.7860465, 4.2837214, 1.3418604], dtype=float32),\n",
       " 2: array([6.5521736, 2.958696 , 5.5239134, 2.0260873], dtype=float32)}"
      ]
     },
     "execution_count": 120,
     "metadata": {},
     "output_type": "execute_result"
    }
   ],
   "source": [
    "mean_dict"
   ]
  },
  {
   "cell_type": "code",
   "execution_count": 121,
   "metadata": {},
   "outputs": [
    {
     "data": {
      "text/plain": [
       "{0: array([0.11871926, 0.14204633, 0.02499056, 0.01119565], dtype=float32),\n",
       " 1: array([0.2752947 , 0.10352623, 0.22322336, 0.03964303], dtype=float32),\n",
       " 2: array([0.40423432, 0.1002505 , 0.31138477, 0.06975426], dtype=float32)}"
      ]
     },
     "execution_count": 121,
     "metadata": {},
     "output_type": "execute_result"
    }
   ],
   "source": [
    "var_dict"
   ]
  },
  {
   "cell_type": "code",
   "execution_count": null,
   "metadata": {},
   "outputs": [],
   "source": []
  },
  {
   "cell_type": "code",
   "execution_count": 122,
   "metadata": {},
   "outputs": [],
   "source": [
    "def predict(X):\n",
    "    y = np.array([-1]*X.shape[0])\n",
    "    for row in range(X.shape[0]):\n",
    "        x = X[row,:]\n",
    "        probability = {label: 1 for label in labels}\n",
    "        for i in range(len(x)):\n",
    "            for label in labels:\n",
    "                probability[label] = probability[label] * prior_dict[label] * stats.norm(mean_dict[label][i],var_dict[label][i]).pdf(x[i])\n",
    "        # print(probability)\n",
    "        y[row]=max(probability,key=probability.get)\n",
    "    return y"
   ]
  },
  {
   "cell_type": "code",
   "execution_count": 123,
   "metadata": {},
   "outputs": [],
   "source": [
    "Y_pred = predict(X_test)"
   ]
  },
  {
   "cell_type": "code",
   "execution_count": 124,
   "metadata": {},
   "outputs": [
    {
     "data": {
      "text/plain": [
       "array([2, 0, 2, 2, 0, 1, 2, 0, 1, 1, 1, 0, 1, 1, 1])"
      ]
     },
     "execution_count": 124,
     "metadata": {},
     "output_type": "execute_result"
    }
   ],
   "source": [
    "Y_pred"
   ]
  },
  {
   "cell_type": "code",
   "execution_count": 125,
   "metadata": {},
   "outputs": [
    {
     "data": {
      "text/plain": [
       "array([2, 0, 2, 2, 0, 1, 2, 0, 1, 1, 1, 0, 1, 1, 1])"
      ]
     },
     "execution_count": 125,
     "metadata": {},
     "output_type": "execute_result"
    }
   ],
   "source": [
    "Y_test.flatten()"
   ]
  },
  {
   "cell_type": "code",
   "execution_count": 126,
   "metadata": {},
   "outputs": [
    {
     "name": "stdout",
     "output_type": "stream",
     "text": [
      "15\n",
      "1.0\n"
     ]
    }
   ],
   "source": [
    "count=0\n",
    "for i in range(len(Y_pred)):\n",
    "    if Y_pred[i]==Y_test.flatten()[i]:\n",
    "        count = count+1\n",
    "print(count)\n",
    "print(count/len(Y_pred))"
   ]
  },
  {
   "cell_type": "code",
   "execution_count": null,
   "metadata": {},
   "outputs": [],
   "source": []
  }
 ],
 "metadata": {
  "kernelspec": {
   "display_name": "Python 3",
   "language": "python",
   "name": "python3"
  },
  "language_info": {
   "codemirror_mode": {
    "name": "ipython",
    "version": 3
   },
   "file_extension": ".py",
   "mimetype": "text/x-python",
   "name": "python",
   "nbconvert_exporter": "python",
   "pygments_lexer": "ipython3",
   "version": "3.7.4"
  }
 },
 "nbformat": 4,
 "nbformat_minor": 2
}
