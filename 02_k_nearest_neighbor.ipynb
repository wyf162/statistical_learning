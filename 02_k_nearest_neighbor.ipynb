{
 "cells": [
  {
   "cell_type": "markdown",
   "metadata": {},
   "source": [
    "### 学习笔记\n",
    "代码借鉴于公众号机器学习实验室  \n",
    "主要学习python内置模块collections的相关内容  \n",
    "不足：代码未能实现书中所建议的数据结构kd搜索树。"
   ]
  },
  {
   "cell_type": "code",
   "execution_count": 6,
   "metadata": {},
   "outputs": [],
   "source": [
    "import numpy as np\n",
    "from collections import Counter\n",
    "import random\n",
    "import matplotlib.pyplot as plt\n",
    "from sklearn.datasets import load_iris\n",
    "from sklearn.utils import shuffle"
   ]
  },
  {
   "cell_type": "code",
   "execution_count": 8,
   "metadata": {
    "scrolled": true
   },
   "outputs": [
    {
     "data": {
      "text/plain": [
       "array([5.1, 3.5, 1.4, 0.2])"
      ]
     },
     "execution_count": 8,
     "metadata": {},
     "output_type": "execute_result"
    }
   ],
   "source": [
    "iris = load_iris()\n",
    "X,Y = iris.data,iris.target\n",
    "X[0]"
   ]
  },
  {
   "cell_type": "code",
   "execution_count": 9,
   "metadata": {},
   "outputs": [
    {
     "data": {
      "text/plain": [
       "array([5.7, 2.8, 4.5, 1.3])"
      ]
     },
     "execution_count": 9,
     "metadata": {},
     "output_type": "execute_result"
    }
   ],
   "source": [
    "X,Y = shuffle(iris.data,iris.target,random_state=13)\n",
    "X[0]"
   ]
  },
  {
   "cell_type": "code",
   "execution_count": 20,
   "metadata": {},
   "outputs": [
    {
     "name": "stdout",
     "output_type": "stream",
     "text": [
      "X_train  (105, 4)\n",
      "X_test  (45, 4)\n",
      "Y_train  (105, 1)\n",
      "Y_test  (45, 1)\n"
     ]
    }
   ],
   "source": [
    "X = X.astype(np.float32)\n",
    "offset = int(X.shape[0]*0.7)\n",
    "# 训练集\n",
    "X_train, Y_train = X[:offset], Y[:offset]\n",
    "# 测试集\n",
    "X_test, Y_test = X[offset:], Y[offset:]\n",
    "Y_train = Y_train.reshape((-1,1))\n",
    "Y_test = Y_test.reshape((-1,1))\n",
    "\n",
    "print('X_train ', X_train.shape)\n",
    "print('X_test ', X_test.shape)\n",
    "print('Y_train ', Y_train.shape)\n",
    "print('Y_test ', Y_test.shape)"
   ]
  },
  {
   "cell_type": "code",
   "execution_count": 55,
   "metadata": {},
   "outputs": [],
   "source": [
    "# 定义L2距离度量函数\n",
    "def compute_distances(X, X_train):\n",
    "    num_test = X.shape[0]\n",
    "    num_train = X_train.shape[0]\n",
    "    dists = np.zeros((num_test, num_train)) \n",
    "\n",
    "    M = np.dot(X, X_train.T)\n",
    "    te = np.square(X).sum(axis=1)\n",
    "    tr = np.square(X_train).sum(axis=1)\n",
    "    dists = np.sqrt(-2 * M + tr + np.matrix(te).T)    \n",
    "    return dists"
   ]
  },
  {
   "cell_type": "code",
   "execution_count": 37,
   "metadata": {},
   "outputs": [
    {
     "name": "stdout",
     "output_type": "stream",
     "text": [
      "<class 'numpy.ndarray'>\n",
      "(4,)\n"
     ]
    },
    {
     "data": {
      "text/plain": [
       "array([5.5, 3.5, 1.3, 0.2], dtype=float32)"
      ]
     },
     "execution_count": 37,
     "metadata": {},
     "output_type": "execute_result"
    }
   ],
   "source": [
    "x_01 = X_test[0,:]\n",
    "print(type(x_01))\n",
    "print(x_01.shape)\n",
    "x_01"
   ]
  },
  {
   "cell_type": "code",
   "execution_count": 38,
   "metadata": {},
   "outputs": [
    {
     "name": "stdout",
     "output_type": "stream",
     "text": [
      "<class 'numpy.ndarray'>\n",
      "(1, 4)\n"
     ]
    },
    {
     "data": {
      "text/plain": [
       "array([[5.5, 3.5, 1.3, 0.2]], dtype=float32)"
      ]
     },
     "execution_count": 38,
     "metadata": {},
     "output_type": "execute_result"
    }
   ],
   "source": [
    "x_02 = X_test[0,:].reshape((1,-1))\n",
    "print(type(x_02))\n",
    "print(x_02.shape)\n",
    "x_02"
   ]
  },
  {
   "cell_type": "code",
   "execution_count": 56,
   "metadata": {
    "collapsed": true
   },
   "outputs": [
    {
     "name": "stdout",
     "output_type": "stream",
     "text": [
      "(45, 105)\n"
     ]
    },
    {
     "data": {
      "text/plain": [
       "matrix([[3.4612148 , 2.6210682 , 0.5291419 , ..., 0.60827225, 0.5477184 ,\n",
       "         3.2046835 ],\n",
       "        [0.8888221 , 0.9486861 , 3.109662  , ..., 2.9832857 , 3.1796227 ,\n",
       "         0.73484755],\n",
       "        [0.45824826, 0.7071014 , 3.1032243 , ..., 2.918904  , 3.163857  ,\n",
       "         0.46903068],\n",
       "        ...,\n",
       "        [3.5142565 , 2.6720777 , 0.41230372, ..., 0.3999998 , 0.38729537,\n",
       "         3.2710843 ],\n",
       "        [0.73484755, 1.0630169 , 3.3136082 , ..., 3.093541  , 3.3674917 ,\n",
       "         0.8306547 ],\n",
       "        [0.6244963 , 0.42425993, 2.8089156 , ..., 2.6608274 , 2.8757615 ,\n",
       "         0.37415472]], dtype=float32)"
      ]
     },
     "execution_count": 56,
     "metadata": {},
     "output_type": "execute_result"
    }
   ],
   "source": [
    "dists = compute_distances(X_test,X_train)\n",
    "print(dists.shape)\n",
    "dists"
   ]
  },
  {
   "cell_type": "code",
   "execution_count": 63,
   "metadata": {
    "collapsed": true
   },
   "outputs": [
    {
     "name": "stdout",
     "output_type": "stream",
     "text": [
      "(1, 105)\n"
     ]
    },
    {
     "data": {
      "text/plain": [
       "matrix([[3.4612136 , 2.6210682 , 0.5291491 , 4.2497063 , 4.8155994 ,\n",
       "         0.70710945, 5.704384  , 4.09878   , 0.5830986 , 3.3793492 ,\n",
       "         3.9127996 , 4.1545153 , 3.5916576 , 0.80622673, 4.4564567 ,\n",
       "         0.8602357 , 4.016217  , 5.049752  , 3.597221  , 1.2569782 ,\n",
       "         3.5411859 , 0.96436524, 0.42425993, 5.479964  , 3.491418  ,\n",
       "         5.1117506 , 0.5916099 , 6.4358373 , 3.7040515 , 4.877499  ,\n",
       "         4.601088  , 0.70710677, 0.31622535, 4.579301  , 4.268489  ,\n",
       "         3.325658  , 0.6708181 , 3.491418  , 3.7563276 , 0.87177664,\n",
       "         0.36055133, 4.593473  , 3.1654365 , 5.256425  , 4.332436  ,\n",
       "         5.588381  , 0.4582524 , 2.5159488 , 1.1401751 , 3.7510004 ,\n",
       "         0.54772186, 3.114482  , 3.8807218 , 5.229723  , 0.75498074,\n",
       "         2.87576   , 0.90554047, 2.9291635 , 4.509989  , 5.297169  ,\n",
       "         1.0049887 , 0.70710677, 4.6957417 , 3.768288  , 5.5821137 ,\n",
       "         4.6314144 , 0.5196157 , 3.721559  , 2.8248892 , 4.1988096 ,\n",
       "         0.34640312, 0.42425993, 0.5916099 , 3.9166312 , 2.4919856 ,\n",
       "         3.0347986 , 5.0249376 , 6.0299244 , 3.152777  , 4.1725283 ,\n",
       "         4.0865636 , 4.16173   , 0.6244993 , 4.4384675 , 3.5566845 ,\n",
       "         0.76811713, 3.0315018 , 5.251666  , 3.0951579 , 1.3190883 ,\n",
       "         0.6244993 , 4.036088  , 2.9883099 , 0.33165765, 2.7586236 ,\n",
       "         4.9929957 , 1.5652478 , 4.837354  , 3.082207  , 0.95393914,\n",
       "         4.9446936 , 0.41230834, 0.60827225, 0.5477253 , 3.2046824 ]],\n",
       "       dtype=float32)"
      ]
     },
     "execution_count": 63,
     "metadata": {},
     "output_type": "execute_result"
    }
   ],
   "source": [
    "dists = compute_distances(x_02,X_train)\n",
    "print(dists.shape)\n",
    "dists"
   ]
  },
  {
   "cell_type": "code",
   "execution_count": 75,
   "metadata": {},
   "outputs": [],
   "source": [
    "# 定义多数表决函数\n",
    "def predict_labels(y_train, dists, k):\n",
    "    num_test = dists.shape[0]\n",
    "    y_pred = np.zeros(num_test)    \n",
    "    for i in range(num_test):\n",
    "\n",
    "        closest_y = []\n",
    "        # 注意 argsort 函数的用法\n",
    "        labels = y_train[np.argsort(dists[i, :])].flatten()\n",
    "        closest_y = labels[0:k]\n",
    "\n",
    "        c = Counter(closest_y)\n",
    "        # print(c)\n",
    "        y_pred[i] = c.most_common(1)[0][0]    \n",
    "    return y_pred"
   ]
  },
  {
   "cell_type": "code",
   "execution_count": 84,
   "metadata": {},
   "outputs": [],
   "source": [
    "def accuracy(X_test,Y_test,X_train,Y_train,k):\n",
    "    dists = compute_distances(X_test, X_train)\n",
    "    Y_pred = predict_labels(Y_train, dists, k)\n",
    "    num_correct = np.sum(Y_pred == Y_test.reshape((1,-1)))\n",
    "    accuracy = float(num_correct) / X_test.shape[0]\n",
    "    return ('Got %d / %d correct => accuracy: %f' % (num_correct, X_test.shape[0], accuracy))"
   ]
  },
  {
   "cell_type": "code",
   "execution_count": 87,
   "metadata": {},
   "outputs": [
    {
     "data": {
      "text/plain": [
       "'Got 44 / 45 correct => accuracy: 0.977778'"
      ]
     },
     "execution_count": 87,
     "metadata": {},
     "output_type": "execute_result"
    }
   ],
   "source": [
    "accuracy(X_test,Y_test,X_train,Y_train,1)"
   ]
  },
  {
   "cell_type": "code",
   "execution_count": 85,
   "metadata": {},
   "outputs": [
    {
     "data": {
      "text/plain": [
       "'Got 44 / 45 correct => accuracy: 0.977778'"
      ]
     },
     "execution_count": 85,
     "metadata": {},
     "output_type": "execute_result"
    }
   ],
   "source": [
    "accuracy(X_test,Y_test,X_train,Y_train,5)"
   ]
  },
  {
   "cell_type": "code",
   "execution_count": 86,
   "metadata": {},
   "outputs": [
    {
     "data": {
      "text/plain": [
       "'Got 44 / 45 correct => accuracy: 0.977778'"
      ]
     },
     "execution_count": 86,
     "metadata": {},
     "output_type": "execute_result"
    }
   ],
   "source": [
    "accuracy(X_test,Y_test,X_train,Y_train,10)"
   ]
  },
  {
   "cell_type": "code",
   "execution_count": 88,
   "metadata": {},
   "outputs": [
    {
     "data": {
      "text/plain": [
       "'Got 43 / 45 correct => accuracy: 0.955556'"
      ]
     },
     "execution_count": 88,
     "metadata": {},
     "output_type": "execute_result"
    }
   ],
   "source": [
    "accuracy(X_test,Y_test,X_train,Y_train,20)"
   ]
  },
  {
   "cell_type": "code",
   "execution_count": 72,
   "metadata": {},
   "outputs": [
    {
     "name": "stdout",
     "output_type": "stream",
     "text": [
      "Counter({0: 35, 1: 33, 2: 31})\n",
      "Got 1 / 1 correct => accuracy: 0.250000\n"
     ]
    }
   ],
   "source": [
    "# 检验测试数据集的准确率\n",
    "Y_test_pred = predict_labels(Y_train,dists, 99)\n",
    "\n",
    "Y_test_pred = Y_test_pred.reshape((-1, 1))\n",
    "\n",
    "num_correct = np.sum(Y_test_pred == Y_test[0,:].reshape((1,-1)))\n",
    "\n",
    "accuracy = float(num_correct) / x_02.shape[0]\n",
    "\n",
    "print('Got %d / %d correct => accuracy: %f' % (num_correct, x_02.shape[0], accuracy))"
   ]
  },
  {
   "cell_type": "code",
   "execution_count": null,
   "metadata": {},
   "outputs": [],
   "source": []
  }
 ],
 "metadata": {
  "kernelspec": {
   "display_name": "Python 3",
   "language": "python",
   "name": "python3"
  },
  "language_info": {
   "codemirror_mode": {
    "name": "ipython",
    "version": 3
   },
   "file_extension": ".py",
   "mimetype": "text/x-python",
   "name": "python",
   "nbconvert_exporter": "python",
   "pygments_lexer": "ipython3",
   "version": "3.7.4"
  }
 },
 "nbformat": 4,
 "nbformat_minor": 2
}
